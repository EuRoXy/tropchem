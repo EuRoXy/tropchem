{
 "cells": [
  {
   "cell_type": "markdown",
   "metadata": {},
   "source": [
    "# Unit conversion\n",
    "## Exercise 1\n",
    "* Convert 1 ppb of O$_3$ to $\\mu$g m$^{-3}$ at standard temperature and pressure (STP)\n",
    "* STP conditions: $T$ = 298.15 K, $p$ = 1000 hPa\n",
    "* Molar mass of O$_3$: $M_{O_3}$ = 48 g mol$^{-1}$"
   ]
  },
  {
   "cell_type": "markdown",
   "metadata": {},
   "source": [
    "**Ideal gas law** for air with Universal Gas Constant R = 8.314 J mol$^{-1}$ K$^{-1}$:\n",
    "\n",
    "$p V = n R T$\n",
    "\n",
    "and the same for O$_3$: \n",
    "\n",
    "$p_{O_3} V = n_{O_3} R T$\n",
    "\n",
    "We are looking for the concentration $c_{O_3}$ of O$_3$, i.e. the mass per volume:\n",
    "\n",
    "$c_{O_3} = m_{O_3}/V = M_{O_3} n_{O_3} / V$\n",
    "\n",
    "By applying the ideal gas law we get\n",
    "\n",
    "$c_{O_3} = M_{O3} p_{O_3}/(R T)$\n",
    "\n",
    "Furthermore, we know that\n",
    "\n",
    "$n_{O_3}/n$ = $p_{O_3}/p = 10^{-9}$\n",
    "\n",
    "Hence $p_{O_3} = 10^{-9} p$"
   ]
  },
  {
   "cell_type": "code",
   "execution_count": 4,
   "metadata": {
    "collapsed": true
   },
   "outputs": [],
   "source": [
    "# Assign values\n",
    "p=100000. # Pa\n",
    "T=298.15  # K\n",
    "xo3=1e-9  # mol/mol\n",
    "MO3=48.0  # g/mol\n",
    "R=8.314   # J mol-1 K-1"
   ]
  },
  {
   "cell_type": "code",
   "execution_count": 5,
   "metadata": {},
   "outputs": [
    {
     "name": "stdout",
     "output_type": "stream",
     "text": [
      "1 ppb of O3 =   1.9364 ug/m3 at STP\n"
     ]
    }
   ],
   "source": [
    "# Compute concentration applying ideal gas law\n",
    "co3 = MO3*xo3*p/(R*T) # g/m3\n",
    "print(\"1 ppb of O3 = %8.4f ug/m3 at STP\" % (co3*1e6))"
   ]
  },
  {
   "cell_type": "markdown",
   "metadata": {
    "collapsed": true
   },
   "source": [
    "**Question:** Why do we have to multiply with 10$^{6}$?"
   ]
  },
  {
   "cell_type": "markdown",
   "metadata": {},
   "source": [
    "## Exercise 2\n",
    "* Convert 10 ppt of HO$_2$ to molec cm$^{-3}$ at 273.15 K and 800 hPa\n",
    "* Avogadro number $N_{AV}$ = 6.022 x 10$^{23}$\n",
    "\n",
    "Again, we start from the ideal gas law, which for the partial pressure of HO$_2$ is\n",
    "\n",
    "$p_{HO_2} V = n_{HO_2} R T$\n",
    "\n",
    "and thus the number of moles per volume is\n",
    "\n",
    "$n_{HO_2}/V = p_{HO_2}/(R T)$\n",
    "\n",
    "As above, the partial pressure $p_{HO_2}$ is known since $p_{HO_2}/p=10^{-12}$ with p = 80'000 Pa.\n",
    "\n",
    "Our final equation considering the proper units (volume in cm$^{-3}$ instead of m$^{-3}$) is:\n",
    "\n",
    "$n(molec/cm^3)$ = $n_{HO_2}\\times N_{AV}/(V \\times 10^6) = p_{HO_2}/(R T) \\times N_{AV}/10^6$\n"
   ]
  },
  {
   "cell_type": "code",
   "execution_count": 6,
   "metadata": {
    "collapsed": true
   },
   "outputs": [],
   "source": [
    "# Assign values\n",
    "xho2=1e-12\n",
    "Nav=6.022e23\n",
    "p=80000.\n",
    "T=273.15"
   ]
  },
  {
   "cell_type": "code",
   "execution_count": 9,
   "metadata": {},
   "outputs": [
    {
     "name": "stdout",
     "output_type": "stream",
     "text": [
      "10 ppt of HO2 = 2.12e+08 molec/cm3\n"
     ]
    }
   ],
   "source": [
    "# Complete computation by replacing XXX with proper formula\n",
    "nho2 = 10e-12*p/(R*T)*Nav/1e6\n",
    "print(\"10 ppt of HO2 = %8.2e molec/cm3\" % nho2)"
   ]
  },
  {
   "cell_type": "code",
   "execution_count": null,
   "metadata": {
    "collapsed": true
   },
   "outputs": [],
   "source": []
  }
 ],
 "metadata": {
  "kernelspec": {
   "display_name": "Python 3",
   "language": "python",
   "name": "python3"
  },
  "language_info": {
   "codemirror_mode": {
    "name": "ipython",
    "version": 3
   },
   "file_extension": ".py",
   "mimetype": "text/x-python",
   "name": "python",
   "nbconvert_exporter": "python",
   "pygments_lexer": "ipython3",
   "version": "3.6.3"
  }
 },
 "nbformat": 4,
 "nbformat_minor": 2
}
