{
 "cells": [
  {
   "cell_type": "markdown",
   "metadata": {},
   "source": [
    "# Exercise unit conversion\n",
    "* Convert 1 ppb of O$_3$ to $\\mu$g m$^{-3}$ at standard temperature and pressure (STP)\n",
    "* STP conditions: $T$ = 298.15 K, $p$ = 1000 hPa\n",
    "* Molar mass of O$_3$: $M_{O_3}$ = 48 g mol$^{-1}$"
   ]
  },
  {
   "cell_type": "markdown",
   "metadata": {},
   "source": [
    "**Ideal gas law** for air with Universal Gas Constant R = 8.314 J mol$^{-1}$ K$^{-1}$:\n",
    "\n",
    "$p V = n R T$\n",
    "\n",
    "and the same for O$_3$: \n",
    "\n",
    "$p_{O_3} V = n_{O_3} R T$\n",
    "\n",
    "We are looking for the concentration $c_{O_3}$ of O$_3$, i.e. the mass per volume:\n",
    "\n",
    "$c_{O_3} = m_{O_3}/V = M_{O_3} n_{O_3} / V$\n",
    "\n",
    "By applying the ideal gas law we get\n",
    "\n",
    "$c_{O_3} = M_{O3} p_{O_3}/(R T)$\n",
    "\n",
    "Furthermore, we know that\n",
    "\n",
    "$n_{O_3}/n$ = $p_{O_3}/p = 10^{-9}$\n",
    "\n",
    "Hence $p_{O_3} = 10^{-9} p$"
   ]
  },
  {
   "cell_type": "code",
   "execution_count": 34,
   "metadata": {
    "collapsed": true
   },
   "outputs": [],
   "source": [
    "# Assign values\n",
    "p=100000. # Pa\n",
    "T=298.15  # K\n",
    "xo3=1e-9  # mol/mol\n",
    "MO3=48.0  # g/mol\n",
    "R=8.314   # J mol-1 K-1"
   ]
  },
  {
   "cell_type": "code",
   "execution_count": 35,
   "metadata": {},
   "outputs": [
    {
     "name": "stdout",
     "output_type": "stream",
     "text": [
      "  1.9364 ug/m3\n"
     ]
    }
   ],
   "source": [
    "# Compute concentration applying ideal gas law\n",
    "co3 = MO3*xo3*p/(R*T) # g/m3\n",
    "print(\"%8.4f\" % (co3*1e6),\"ug/m3\")"
   ]
  },
  {
   "cell_type": "code",
   "execution_count": null,
   "metadata": {
    "collapsed": true
   },
   "outputs": [],
   "source": []
  }
 ],
 "metadata": {
  "kernelspec": {
   "display_name": "Python 3",
   "language": "python",
   "name": "python3"
  },
  "language_info": {
   "codemirror_mode": {
    "name": "ipython",
    "version": 3
   },
   "file_extension": ".py",
   "mimetype": "text/x-python",
   "name": "python",
   "nbconvert_exporter": "python",
   "pygments_lexer": "ipython3",
   "version": "3.6.3"
  }
 },
 "nbformat": 4,
 "nbformat_minor": 2
}
